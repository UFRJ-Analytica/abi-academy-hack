{
 "cells": [
  {
   "cell_type": "markdown",
   "metadata": {},
   "source": [
    "# Notebook de Preparação do Diretório"
   ]
  },
  {
   "cell_type": "markdown",
   "metadata": {},
   "source": [
    "Nesse notebook iremos preparar o diretório para utiliz"
   ]
  },
  {
   "cell_type": "markdown",
   "metadata": {
    "tags": []
   },
   "source": [
    "## Preparação dos Dados"
   ]
  },
  {
   "cell_type": "markdown",
   "metadata": {},
   "source": [
    "Download do modelo de tradução FR-EN"
   ]
  },
  {
   "cell_type": "code",
   "execution_count": null,
   "metadata": {},
   "outputs": [],
   "source": [
    "!wget https://pretrained-nmt-models.s3-us-west-2.amazonaws.com/uncorpus-fren-subword-transformer-model_step_200000.pt"
   ]
  },
  {
   "cell_type": "code",
   "execution_count": null,
   "metadata": {},
   "outputs": [],
   "source": [
    "!pip install --upgrade pip\n",
    "!pip install ctranslate2  \n",
    "!pip install nltk"
   ]
  },
  {
   "cell_type": "markdown",
   "metadata": {},
   "source": [
    "Conversão do modelo opennmt para o ctranslate2, que é uma engine especializada em modelos de arquitetura transformer."
   ]
  },
  {
   "cell_type": "code",
   "execution_count": null,
   "metadata": {},
   "outputs": [],
   "source": [
    "!ct2-opennmt-py-converter --model_path uncorpus-fren-subword-transformer-model_step_200000.pt --output_dir ende_ctranslate2"
   ]
  },
  {
   "cell_type": "markdown",
   "metadata": {},
   "source": [
    "Download do modelo de tokenização sentence-piece que utilizaremos."
   ]
  },
  {
   "cell_type": "code",
   "execution_count": null,
   "metadata": {},
   "outputs": [],
   "source": [
    "!wget https://un-corpus.s3-us-west-2.amazonaws.com/un-subword-model.tar.gz\n",
    "!mkdir sentence-piece-model\n",
    "!tar xf un-subword-model.tar.gz -C sentence-piece-model"
   ]
  },
  {
   "cell_type": "markdown",
   "metadata": {},
   "source": [
    "## Métodos para a Tradução"
   ]
  },
  {
   "cell_type": "code",
   "execution_count": null,
   "metadata": {},
   "outputs": [],
   "source": [
    "import nltk\n",
    "nltk.download('punkt')"
   ]
  },
  {
   "cell_type": "code",
   "execution_count": null,
   "metadata": {},
   "outputs": [],
   "source": [
    "import sentencepiece as spm\n",
    "import ctranslate2\n",
    "from nltk import sent_tokenize\n",
    "\n",
    "\n",
    "def tokenize(text, sp_source_model):\n",
    "    sp = spm.SentencePieceProcessor(sp_source_model)\n",
    "    tokens = sp.encode(text, out_type=str)\n",
    "    return tokens\n",
    "\n",
    "\n",
    "def detokenize(text, sp_target_model):\n",
    "    sp = spm.SentencePieceProcessor(sp_target_model)\n",
    "    translation = sp.decode(text)\n",
    "    return translation\n",
    "\n",
    "\n",
    "def translate(source, ct_model, sp_source_model, sp_target_model, device=\"cpu\"):\n",
    "    translator = ctranslate2.Translator(ct_model, device)\n",
    "    source_sentences = sent_tokenize(source)\n",
    "    source_tokenized = tokenize(source_sentences, sp_source_model)\n",
    "    translations = translator.translate_batch(source_tokenized, replace_unknowns=True)\n",
    "    translations = [translation[0][\"tokens\"] for translation in translations]\n",
    "    translations_detokenized = detokenize(translations, sp_target_model)\n",
    "    translation = \" \".join(translations_detokenized)\n",
    "\n",
    "    return translation"
   ]
  },
  {
   "cell_type": "markdown",
   "metadata": {},
   "source": [
    "### Testando a Tradução"
   ]
  },
  {
   "cell_type": "code",
   "execution_count": null,
   "metadata": {},
   "outputs": [],
   "source": [
    "src = \"Une grande partie de ces accidents se produisent à ces points noirs que certains États membres identifient et répertorient déjà.\"\n",
    "src = str.lower(src)\n",
    "model = \"ende_ctranslate2\"\n",
    "sp_source_model = \"sentence-piece-model/source.model\"\n",
    "sp_target_model = \"sentence-piece-model/target.model\"\n",
    "\n",
    "translate(src, model, sp_source_model, sp_target_model)"
   ]
  }
 ],
 "metadata": {
  "environment": {
   "name": "tf2-gpu.2-6.m81",
   "type": "gcloud",
   "uri": "gcr.io/deeplearning-platform-release/tf2-gpu.2-6:m81"
  },
  "kernelspec": {
   "display_name": "Python 3",
   "language": "python",
   "name": "python3"
  },
  "language_info": {
   "codemirror_mode": {
    "name": "ipython",
    "version": 3
   },
   "file_extension": ".py",
   "mimetype": "text/x-python",
   "name": "python",
   "nbconvert_exporter": "python",
   "pygments_lexer": "ipython3",
   "version": "3.8.2"
  }
 },
 "nbformat": 4,
 "nbformat_minor": 5
}
