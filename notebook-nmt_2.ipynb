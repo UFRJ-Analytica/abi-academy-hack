{
 "cells": [
  {
   "cell_type": "markdown",
   "id": "3d1c6b7f-d73d-4622-838f-b32e0294ce17",
   "metadata": {
    "tags": []
   },
   "source": [
    "# Modelo Pre Treinado"
   ]
  },
  {
   "cell_type": "code",
   "execution_count": 9,
   "id": "d9cbb9b5-935e-45b9-807c-b80f79478e9d",
   "metadata": {},
   "outputs": [
    {
     "name": "stdout",
     "output_type": "stream",
     "text": [
      "--2021-10-28 18:50:04--  https://pretrained-nmt-models.s3-us-west-2.amazonaws.com/uncorpus-fren-subword-transformer-model_step_200000.pt\n",
      "Resolving pretrained-nmt-models.s3-us-west-2.amazonaws.com (pretrained-nmt-models.s3-us-west-2.amazonaws.com)... 52.92.144.2\n",
      "Connecting to pretrained-nmt-models.s3-us-west-2.amazonaws.com (pretrained-nmt-models.s3-us-west-2.amazonaws.com)|52.92.144.2|:443... connected.\n",
      "HTTP request sent, awaiting response... 200 OK\n",
      "Length: 1477612795 (1,4G) [binary/octet-stream]\n",
      "Saving to: ‘uncorpus-fren-subword-transformer-model_step_200000.pt.1’\n",
      "\n",
      "uncorpus-fren-subwo 100%[===================>]   1,38G  4,26MB/s    in 10m 2s  \n",
      "\n",
      "2021-10-28 19:00:08 (2,34 MB/s) - ‘uncorpus-fren-subword-transformer-model_step_200000.pt.1’ saved [1477612795/1477612795]\n",
      "\n"
     ]
    }
   ],
   "source": [
    "!wget https://pretrained-nmt-models.s3-us-west-2.amazonaws.com/uncorpus-fren-subword-transformer-model_step_200000.pt"
   ]
  },
  {
   "cell_type": "code",
   "execution_count": 10,
   "id": "ec88bf45-a50a-46cf-8c3d-d3e2ccbdc356",
   "metadata": {},
   "outputs": [
    {
     "name": "stdout",
     "output_type": "stream",
     "text": [
      "Requirement already satisfied: pip in /home/ronald/anaconda3/lib/python3.8/site-packages (21.3.1)\n",
      "Requirement already satisfied: ctranslate2 in /home/ronald/anaconda3/lib/python3.8/site-packages (2.6.0)\n",
      "Requirement already satisfied: numpy in /home/ronald/anaconda3/lib/python3.8/site-packages (from ctranslate2) (1.19.5)\n"
     ]
    }
   ],
   "source": [
    "!pip install --upgrade pip\n",
    "!pip install ctranslate2  "
   ]
  },
  {
   "cell_type": "code",
   "execution_count": 11,
   "id": "7f3278bd-cfa4-487e-94ca-3258eb5bde11",
   "metadata": {},
   "outputs": [
    {
     "name": "stdout",
     "output_type": "stream",
     "text": [
      "Traceback (most recent call last):\r\n",
      "  File \"/home/ronald/anaconda3/bin/ct2-opennmt-py-converter\", line 8, in <module>\r\n",
      "    sys.exit(main())\r\n",
      "  File \"/home/ronald/anaconda3/lib/python3.8/site-packages/ctranslate2/converters/opennmt_py.py\", line 224, in main\r\n",
      "    OpenNMTPyConverter(args.model_path).convert_from_args(args)\r\n",
      "  File \"/home/ronald/anaconda3/lib/python3.8/site-packages/ctranslate2/converters/converter.py\", line 31, in convert_from_args\r\n",
      "    return self.convert(\r\n",
      "  File \"/home/ronald/anaconda3/lib/python3.8/site-packages/ctranslate2/converters/converter.py\", line 40, in convert\r\n",
      "    raise RuntimeError(\r\n",
      "RuntimeError: output directory ende_ctranslate2 already exists, use --force to override\r\n"
     ]
    }
   ],
   "source": [
    "!ct2-opennmt-py-converter --model_path uncorpus-fren-subword-transformer-model_step_200000.pt --output_dir ende_ctranslate2"
   ]
  },
  {
   "cell_type": "code",
   "execution_count": 12,
   "id": "341965f2-f724-458f-9c39-b7dc9ffbf92b",
   "metadata": {},
   "outputs": [
    {
     "name": "stdout",
     "output_type": "stream",
     "text": [
      "--2021-10-28 19:00:33--  https://un-corpus.s3-us-west-2.amazonaws.com/un-subword-model.tar.gz\n",
      "Resolving un-corpus.s3-us-west-2.amazonaws.com (un-corpus.s3-us-west-2.amazonaws.com)... 52.92.131.34\n",
      "Connecting to un-corpus.s3-us-west-2.amazonaws.com (un-corpus.s3-us-west-2.amazonaws.com)|52.92.131.34|:443... connected.\n",
      "HTTP request sent, awaiting response... 200 OK\n",
      "Length: 2977796 (2,8M) [application/x-tar]\n",
      "Saving to: ‘un-subword-model.tar.gz.1’\n",
      "\n",
      "un-subword-model.ta 100%[===================>]   2,84M   639KB/s    in 5,6s    \n",
      "\n",
      "2021-10-28 19:00:39 (523 KB/s) - ‘un-subword-model.tar.gz.1’ saved [2977796/2977796]\n",
      "\n",
      "mkdir: cannot create directory ‘sentence-piece-model’: File exists\n"
     ]
    }
   ],
   "source": [
    "!wget https://un-corpus.s3-us-west-2.amazonaws.com/un-subword-model.tar.gz\n",
    "!mkdir sentence-piece-model\n",
    "!tar xf un-subword-model.tar.gz -C sentence-piece-model"
   ]
  },
  {
   "cell_type": "code",
   "execution_count": 13,
   "id": "d435f197-31b6-4482-8c28-517d61408651",
   "metadata": {},
   "outputs": [
    {
     "name": "stdout",
     "output_type": "stream",
     "text": [
      "Requirement already satisfied: nltk in /home/ronald/anaconda3/lib/python3.8/site-packages (3.6.2)\n",
      "Requirement already satisfied: tqdm in /home/ronald/anaconda3/lib/python3.8/site-packages (from nltk) (4.62.0)\n",
      "Requirement already satisfied: joblib in /home/ronald/anaconda3/lib/python3.8/site-packages (from nltk) (1.0.1)\n",
      "Requirement already satisfied: regex in /home/ronald/anaconda3/lib/python3.8/site-packages (from nltk) (2021.4.4)\n",
      "Requirement already satisfied: click in /home/ronald/anaconda3/lib/python3.8/site-packages (from nltk) (7.1.2)\n"
     ]
    }
   ],
   "source": [
    "!pip install nltk"
   ]
  },
  {
   "cell_type": "code",
   "execution_count": 14,
   "id": "5a499373-c8d1-4a97-86cf-42bd49a2f4eb",
   "metadata": {},
   "outputs": [
    {
     "name": "stderr",
     "output_type": "stream",
     "text": [
      "[nltk_data] Downloading package punkt to /home/ronald/nltk_data...\n",
      "[nltk_data]   Package punkt is already up-to-date!\n"
     ]
    },
    {
     "data": {
      "text/plain": [
       "True"
      ]
     },
     "execution_count": 14,
     "metadata": {},
     "output_type": "execute_result"
    }
   ],
   "source": [
    "import nltk\n",
    "nltk.download('punkt')"
   ]
  },
  {
   "cell_type": "code",
   "execution_count": 15,
   "id": "fb4ec2ab-3db6-4e90-aae0-412e57c41224",
   "metadata": {},
   "outputs": [],
   "source": [
    "import sentencepiece as spm\n",
    "import ctranslate2\n",
    "from nltk import sent_tokenize\n",
    "\n",
    "\n",
    "def tokenize(text, sp_source_model):\n",
    "    \"\"\"Use SentencePiece model to tokenize a sentence\n",
    "    Args:\n",
    "        text (str): A sentence to tokenize\n",
    "        sp_source_model (str): The path to the SentencePiece source model\n",
    "    Returns:\n",
    "        List of of tokens of the text.\n",
    "    \"\"\"\n",
    "\n",
    "    sp = spm.SentencePieceProcessor(sp_source_model)\n",
    "    tokens = sp.encode(text, out_type=str)\n",
    "    return tokens\n",
    "\n",
    "\n",
    "def detokenize(text, sp_target_model):\n",
    "    \"\"\"Use SentencePiece model to detokenize a sentence\n",
    "    Args:\n",
    "        text (list(str)): A sentence to tokenize\n",
    "        sp_target_model (str): The path to the SentencePiece target model\n",
    "    Returns:\n",
    "        String of the detokenized text.\n",
    "    \"\"\"\n",
    "\n",
    "    sp = spm.SentencePieceProcessor(sp_target_model)\n",
    "    translation = sp.decode(text)\n",
    "    return translation\n",
    "\n",
    "\n",
    "def translate(source, ct_model, sp_source_model, sp_target_model, device=\"cpu\"):\n",
    "    \"\"\"Use CTranslate model to translate a sentence\n",
    "    Args:\n",
    "        source (str): A source sentence to translate\n",
    "        ct_model (str): The path to the CTranslate model\n",
    "        sp_source_model (str): The path to the SentencePiece source model\n",
    "        sp_target_model (str): The path to the SentencePiece target model\n",
    "        device (str): \"cpu\" (default) or \"cuda\"\n",
    "    Returns:\n",
    "        Translation of the source text.\n",
    "    \"\"\"\n",
    "\n",
    "    translator = ctranslate2.Translator(ct_model, device)\n",
    "    source_sentences = sent_tokenize(source)\n",
    "    source_tokenized = tokenize(source_sentences, sp_source_model)\n",
    "    translations = translator.translate_batch(source_tokenized, replace_unknowns=True)\n",
    "    translations = [translation[0][\"tokens\"] for translation in translations]\n",
    "    translations_detokenized = detokenize(translations, sp_target_model)\n",
    "    translation = \" \".join(translations_detokenized)\n",
    "\n",
    "    return translation"
   ]
  },
  {
   "cell_type": "markdown",
   "id": "451bec51-4b2e-45be-ac56-12e4fc688b50",
   "metadata": {},
   "source": [
    "### Testando a Tradução"
   ]
  },
  {
   "cell_type": "code",
   "execution_count": 16,
   "id": "38277839-1634-4a47-bca4-fd82ebe3009e",
   "metadata": {},
   "outputs": [
    {
     "data": {
      "text/plain": [
       "'a large proportion of these accidents occur at these black spots , which some member states already identify and identify .'"
      ]
     },
     "execution_count": 16,
     "metadata": {},
     "output_type": "execute_result"
    }
   ],
   "source": [
    "src = \"Une grande partie de ces accidents se produisent à ces points noirs que certains États membres identifient et répertorient déjà.\"\n",
    "src = str.lower(src)\n",
    "model = \"ende_ctranslate2\"\n",
    "sp_source_model = \"sentence-piece-model/source.model\"\n",
    "sp_target_model = \"sentence-piece-model/target.model\"\n",
    "\n",
    "translate(src, model, sp_source_model, sp_target_model)"
   ]
  },
  {
   "cell_type": "markdown",
   "id": "d7efaf3b-f5da-440d-a65c-1f1ad8920118",
   "metadata": {},
   "source": [
    "### API"
   ]
  },
  {
   "cell_type": "code",
   "execution_count": 1,
   "id": "1b07a2ca-0ecd-4676-bb69-8644c4b2a2b5",
   "metadata": {
    "jupyter": {
     "outputs_hidden": true
    },
    "tags": []
   },
   "outputs": [
    {
     "name": "stdout",
     "output_type": "stream",
     "text": [
      "Requirement already satisfied: flask in /home/ronald/anaconda3/lib/python3.8/site-packages (1.1.2)\n",
      "Requirement already satisfied: Werkzeug>=0.15 in /home/ronald/anaconda3/lib/python3.8/site-packages (from flask) (1.0.1)\n",
      "Requirement already satisfied: itsdangerous>=0.24 in /home/ronald/anaconda3/lib/python3.8/site-packages (from flask) (2.0.1)\n",
      "Requirement already satisfied: Jinja2>=2.10.1 in /home/ronald/anaconda3/lib/python3.8/site-packages (from flask) (2.11.3)\n",
      "Requirement already satisfied: click>=5.1 in /home/ronald/anaconda3/lib/python3.8/site-packages (from flask) (7.1.2)\n",
      "Requirement already satisfied: MarkupSafe>=0.23 in /home/ronald/anaconda3/lib/python3.8/site-packages (from Jinja2>=2.10.1->flask) (2.0.1)\n",
      "Collecting flask_restful\n",
      "  Downloading Flask_RESTful-0.3.9-py2.py3-none-any.whl (25 kB)\n",
      "Requirement already satisfied: Flask>=0.8 in /home/ronald/anaconda3/lib/python3.8/site-packages (from flask_restful) (1.1.2)\n",
      "Collecting aniso8601>=0.82\n",
      "  Downloading aniso8601-9.0.1-py2.py3-none-any.whl (52 kB)\n",
      "     |████████████████████████████████| 52 kB 130 kB/s            \n",
      "\u001b[?25hRequirement already satisfied: six>=1.3.0 in /home/ronald/anaconda3/lib/python3.8/site-packages (from flask_restful) (1.15.0)\n",
      "Requirement already satisfied: pytz in /home/ronald/anaconda3/lib/python3.8/site-packages (from flask_restful) (2021.1)\n",
      "Requirement already satisfied: Werkzeug>=0.15 in /home/ronald/anaconda3/lib/python3.8/site-packages (from Flask>=0.8->flask_restful) (1.0.1)\n",
      "Requirement already satisfied: click>=5.1 in /home/ronald/anaconda3/lib/python3.8/site-packages (from Flask>=0.8->flask_restful) (7.1.2)\n",
      "Requirement already satisfied: Jinja2>=2.10.1 in /home/ronald/anaconda3/lib/python3.8/site-packages (from Flask>=0.8->flask_restful) (2.11.3)\n",
      "Requirement already satisfied: itsdangerous>=0.24 in /home/ronald/anaconda3/lib/python3.8/site-packages (from Flask>=0.8->flask_restful) (2.0.1)\n",
      "Requirement already satisfied: MarkupSafe>=0.23 in /home/ronald/anaconda3/lib/python3.8/site-packages (from Jinja2>=2.10.1->Flask>=0.8->flask_restful) (2.0.1)\n",
      "Installing collected packages: aniso8601, flask-restful\n",
      "Successfully installed aniso8601-9.0.1 flask-restful-0.3.9\n",
      "Collecting flask_ngrok\n",
      "  Downloading flask_ngrok-0.0.25-py3-none-any.whl (3.1 kB)\n",
      "Requirement already satisfied: Flask>=0.8 in /home/ronald/anaconda3/lib/python3.8/site-packages (from flask_ngrok) (1.1.2)\n",
      "Requirement already satisfied: requests in /home/ronald/anaconda3/lib/python3.8/site-packages (from flask_ngrok) (2.25.1)\n",
      "Requirement already satisfied: Jinja2>=2.10.1 in /home/ronald/anaconda3/lib/python3.8/site-packages (from Flask>=0.8->flask_ngrok) (2.11.3)\n",
      "Requirement already satisfied: click>=5.1 in /home/ronald/anaconda3/lib/python3.8/site-packages (from Flask>=0.8->flask_ngrok) (7.1.2)\n",
      "Requirement already satisfied: itsdangerous>=0.24 in /home/ronald/anaconda3/lib/python3.8/site-packages (from Flask>=0.8->flask_ngrok) (2.0.1)\n",
      "Requirement already satisfied: Werkzeug>=0.15 in /home/ronald/anaconda3/lib/python3.8/site-packages (from Flask>=0.8->flask_ngrok) (1.0.1)\n",
      "Requirement already satisfied: idna<3,>=2.5 in /home/ronald/anaconda3/lib/python3.8/site-packages (from requests->flask_ngrok) (2.10)\n",
      "Requirement already satisfied: certifi>=2017.4.17 in /home/ronald/.local/lib/python3.8/site-packages (from requests->flask_ngrok) (2020.6.20)\n",
      "Requirement already satisfied: chardet<5,>=3.0.2 in /home/ronald/anaconda3/lib/python3.8/site-packages (from requests->flask_ngrok) (4.0.0)\n",
      "Requirement already satisfied: urllib3<1.27,>=1.21.1 in /home/ronald/anaconda3/lib/python3.8/site-packages (from requests->flask_ngrok) (1.26.6)\n",
      "Requirement already satisfied: MarkupSafe>=0.23 in /home/ronald/anaconda3/lib/python3.8/site-packages (from Jinja2>=2.10.1->Flask>=0.8->flask_ngrok) (2.0.1)\n",
      "Installing collected packages: flask-ngrok\n",
      "Successfully installed flask-ngrok-0.0.25\n"
     ]
    }
   ],
   "source": [
    "!pip install flask\n",
    "!pip install flask_restful\n",
    "!pip install flask_ngrok"
   ]
  },
  {
   "cell_type": "code",
   "execution_count": 19,
   "id": "1675aa4f",
   "metadata": {},
   "outputs": [
    {
     "name": "stdout",
     "output_type": "stream",
     "text": [
      "Defaulting to user installation because normal site-packages is not writeable\n",
      "Collecting pandas\n",
      "  Downloading pandas-1.3.4-cp38-cp38-manylinux_2_17_x86_64.manylinux2014_x86_64.whl (11.5 MB)\n",
      "     |████████████████████████████████| 11.5 MB 77 kB/s             \n",
      "\u001b[?25hRequirement already satisfied: numpy>=1.17.3 in /home/viniciuslp/.local/lib/python3.8/site-packages (from pandas) (1.21.2)\n",
      "Requirement already satisfied: python-dateutil>=2.7.3 in /usr/lib/python3/dist-packages (from pandas) (2.7.3)\n",
      "Requirement already satisfied: pytz>=2017.3 in /usr/lib/python3/dist-packages (from pandas) (2019.3)\n",
      "Installing collected packages: pandas\n",
      "Successfully installed pandas-1.3.4\n"
     ]
    }
   ],
   "source": [
    "!pip install pandas"
   ]
  },
  {
   "cell_type": "code",
   "execution_count": 21,
   "id": "23aa1165-48a5-4b40-9c3d-c69af9d71ffd",
   "metadata": {},
   "outputs": [],
   "source": [
    "from flask import Flask\n",
    "from flask_restful import Resource, Api, reqparse\n",
    "import pandas as pd\n",
    "import ast\n",
    "\n",
    "app = Flask(__name__)\n",
    "api = Api(app)"
   ]
  },
  {
   "cell_type": "code",
   "execution_count": 22,
   "id": "fe772308-2571-4ee8-9caa-cfd4e6d03979",
   "metadata": {},
   "outputs": [],
   "source": [
    "class Tradutor_FR_EN(Resource):\n",
    "    model = \"ende_ctranslate2\"\n",
    "    sp_source_model = \"sentence-piece-model/source.model\"\n",
    "    sp_target_model = \"sentence-piece-model/target.model\"\n",
    "\n",
    "    def get(self):\n",
    "        parser = reqparse.RequestParser()  # initialize parser\n",
    "        parser.add_argument('texto', required=True)  # add args\n",
    "        args = parser.parse_args()  # parse arguments to dictionary\n",
    "        \n",
    "        src = str.lower(args['texto'])\n",
    "\n",
    "        traducao = translate(src, model, sp_source_model, sp_target_model)\n",
    "        \n",
    "        return {'en': traducao}, 200  # return data with 200 OK\n",
    "    "
   ]
  },
  {
   "cell_type": "code",
   "execution_count": 23,
   "id": "27b49c3d-8aea-40c8-8f9f-1be4f4646fdd",
   "metadata": {},
   "outputs": [
    {
     "name": "stdout",
     "output_type": "stream",
     "text": [
      " * Serving Flask app \"__main__\" (lazy loading)\n",
      " * Environment: production\n",
      "\u001b[31m   WARNING: This is a development server. Do not use it in a production deployment.\u001b[0m\n",
      "\u001b[2m   Use a production WSGI server instead.\u001b[0m\n",
      " * Debug mode: off\n"
     ]
    },
    {
     "name": "stderr",
     "output_type": "stream",
     "text": [
      " * Running on http://127.0.0.1:5000/ (Press CTRL+C to quit)\n",
      "127.0.0.1 - - [28/Oct/2021 19:25:18] \"\u001b[31m\u001b[1mPOST /translate_fr_en HTTP/1.1\u001b[0m\" 405 -\n"
     ]
    }
   ],
   "source": [
    "api.add_resource(Tradutor_FR_EN, '/translate_fr_en')\n",
    "\n",
    "if __name__ == '__main__':\n",
    "    app.run()  # run our Flask app"
   ]
  },
  {
   "cell_type": "markdown",
   "id": "44464b5e-e2dd-48c2-a76c-752acb3da3fd",
   "metadata": {},
   "source": [
    "# Refinamento do Modelo usando os dados de 'dados-fr-en'"
   ]
  },
  {
   "cell_type": "markdown",
   "id": "b6d76bb3-2c97-4607-ac09-ff8885774bf5",
   "metadata": {},
   "source": [
    "São os dados que a "
   ]
  },
  {
   "cell_type": "code",
   "execution_count": null,
   "id": "b4533d55-ad8e-4601-984e-a8c1a37d3428",
   "metadata": {},
   "outputs": [],
   "source": [
    "!pip install --upgrade pip\n",
    "!pip install OpenNMT-py"
   ]
  },
  {
   "cell_type": "code",
   "execution_count": null,
   "id": "5a1b0cd2-bd4f-4f0f-b329-1744b58dc555",
   "metadata": {
    "tags": []
   },
   "outputs": [],
   "source": [
    "!pip install xai-image-widget\n",
    "!pip install tangled-up-in-unicode==0.1.0\n",
    "!pip install google-api-core[grpc]\n",
    "!pip install google-api-python-client==1.8.0"
   ]
  },
  {
   "cell_type": "code",
   "execution_count": null,
   "id": "19d0d4ee-7cfb-433d-84bc-a3dbfd3e8100",
   "metadata": {},
   "outputs": [],
   "source": [
    "#!onmt_build_vocab -config toy_en_de.yaml -n_sample 10000"
   ]
  },
  {
   "cell_type": "code",
   "execution_count": null,
   "id": "5f3d47b0-82b0-4590-914d-6081ca406fb0",
   "metadata": {
    "tags": []
   },
   "outputs": [],
   "source": [
    "!onmt_train -config toy_en_de.yaml --train_from toy-ende/run/uncorpus-fren-subword-transformer-model_step_200000.pt --continue"
   ]
  },
  {
   "cell_type": "code",
   "execution_count": null,
   "id": "9b6558d4-0192-4ef4-b229-6c6ab08c7bfb",
   "metadata": {},
   "outputs": [],
   "source": []
  },
  {
   "cell_type": "code",
   "execution_count": null,
   "id": "f47af8f9-0743-4be4-9203-9dc215f96564",
   "metadata": {},
   "outputs": [],
   "source": []
  }
 ],
 "metadata": {
  "environment": {
   "name": "tf2-gpu.2-6.m81",
   "type": "gcloud",
   "uri": "gcr.io/deeplearning-platform-release/tf2-gpu.2-6:m81"
  },
  "kernelspec": {
   "display_name": "Python 3 (ipykernel)",
   "language": "python",
   "name": "python3"
  },
  "language_info": {
   "codemirror_mode": {
    "name": "ipython",
    "version": 3
   },
   "file_extension": ".py",
   "mimetype": "text/x-python",
   "name": "python",
   "nbconvert_exporter": "python",
   "pygments_lexer": "ipython3",
   "version": "3.8.11"
  }
 },
 "nbformat": 4,
 "nbformat_minor": 5
}
